{
 "cells": [
  {
   "cell_type": "code",
   "execution_count": 19,
   "id": "67993f69",
   "metadata": {},
   "outputs": [
    {
     "ename": "ModuleNotFoundError",
     "evalue": "No module named 'myproject'",
     "output_type": "error",
     "traceback": [
      "\u001b[31m---------------------------------------------------------------------------\u001b[39m",
      "\u001b[31mModuleNotFoundError\u001b[39m                       Traceback (most recent call last)",
      "\u001b[36mCell\u001b[39m\u001b[36m \u001b[39m\u001b[32mIn[19]\u001b[39m\u001b[32m, line 6\u001b[39m\n\u001b[32m      4\u001b[39m sys.path.append(\u001b[33m\"\u001b[39m\u001b[33md:/config\u001b[39m\u001b[33m\"\u001b[39m)\n\u001b[32m      5\u001b[39m os.environ.setdefault(\u001b[33m\"\u001b[39m\u001b[33mDJANGO_SETTINGS_MODULE\u001b[39m\u001b[33m\"\u001b[39m,\u001b[33m\"\u001b[39m\u001b[33mconfig.settings\u001b[39m\u001b[33m\"\u001b[39m)\n\u001b[32m----> \u001b[39m\u001b[32m6\u001b[39m django.setup()\n",
      "\u001b[36mFile \u001b[39m\u001b[32md:\\anacoda\\envs\\myenv\\Lib\\site-packages\\django\\__init__.py:19\u001b[39m, in \u001b[36msetup\u001b[39m\u001b[34m(set_prefix)\u001b[39m\n\u001b[32m     16\u001b[39m \u001b[38;5;28;01mfrom\u001b[39;00m\u001b[38;5;250m \u001b[39m\u001b[34;01mdjango\u001b[39;00m\u001b[34;01m.\u001b[39;00m\u001b[34;01murls\u001b[39;00m\u001b[38;5;250m \u001b[39m\u001b[38;5;28;01mimport\u001b[39;00m set_script_prefix\n\u001b[32m     17\u001b[39m \u001b[38;5;28;01mfrom\u001b[39;00m\u001b[38;5;250m \u001b[39m\u001b[34;01mdjango\u001b[39;00m\u001b[34;01m.\u001b[39;00m\u001b[34;01mutils\u001b[39;00m\u001b[34;01m.\u001b[39;00m\u001b[34;01mlog\u001b[39;00m\u001b[38;5;250m \u001b[39m\u001b[38;5;28;01mimport\u001b[39;00m configure_logging\n\u001b[32m---> \u001b[39m\u001b[32m19\u001b[39m configure_logging(settings.LOGGING_CONFIG, settings.LOGGING)\n\u001b[32m     20\u001b[39m \u001b[38;5;28;01mif\u001b[39;00m set_prefix:\n\u001b[32m     21\u001b[39m     set_script_prefix(\n\u001b[32m     22\u001b[39m         \u001b[33m\"\u001b[39m\u001b[33m/\u001b[39m\u001b[33m\"\u001b[39m \u001b[38;5;28;01mif\u001b[39;00m settings.FORCE_SCRIPT_NAME \u001b[38;5;129;01mis\u001b[39;00m \u001b[38;5;28;01mNone\u001b[39;00m \u001b[38;5;28;01melse\u001b[39;00m settings.FORCE_SCRIPT_NAME\n\u001b[32m     23\u001b[39m     )\n",
      "\u001b[36mFile \u001b[39m\u001b[32md:\\anacoda\\envs\\myenv\\Lib\\site-packages\\django\\conf\\__init__.py:81\u001b[39m, in \u001b[36mLazySettings.__getattr__\u001b[39m\u001b[34m(self, name)\u001b[39m\n\u001b[32m     79\u001b[39m \u001b[38;5;250m\u001b[39m\u001b[33;03m\"\"\"Return the value of a setting and cache it in self.__dict__.\"\"\"\u001b[39;00m\n\u001b[32m     80\u001b[39m \u001b[38;5;28;01mif\u001b[39;00m (_wrapped := \u001b[38;5;28mself\u001b[39m._wrapped) \u001b[38;5;129;01mis\u001b[39;00m empty:\n\u001b[32m---> \u001b[39m\u001b[32m81\u001b[39m     \u001b[38;5;28mself\u001b[39m._setup(name)\n\u001b[32m     82\u001b[39m     _wrapped = \u001b[38;5;28mself\u001b[39m._wrapped\n\u001b[32m     83\u001b[39m val = \u001b[38;5;28mgetattr\u001b[39m(_wrapped, name)\n",
      "\u001b[36mFile \u001b[39m\u001b[32md:\\anacoda\\envs\\myenv\\Lib\\site-packages\\django\\conf\\__init__.py:68\u001b[39m, in \u001b[36mLazySettings._setup\u001b[39m\u001b[34m(self, name)\u001b[39m\n\u001b[32m     60\u001b[39m     desc = (\u001b[33m\"\u001b[39m\u001b[33msetting \u001b[39m\u001b[38;5;132;01m%s\u001b[39;00m\u001b[33m\"\u001b[39m % name) \u001b[38;5;28;01mif\u001b[39;00m name \u001b[38;5;28;01melse\u001b[39;00m \u001b[33m\"\u001b[39m\u001b[33msettings\u001b[39m\u001b[33m\"\u001b[39m\n\u001b[32m     61\u001b[39m     \u001b[38;5;28;01mraise\u001b[39;00m ImproperlyConfigured(\n\u001b[32m     62\u001b[39m         \u001b[33m\"\u001b[39m\u001b[33mRequested \u001b[39m\u001b[38;5;132;01m%s\u001b[39;00m\u001b[33m, but settings are not configured. \u001b[39m\u001b[33m\"\u001b[39m\n\u001b[32m     63\u001b[39m         \u001b[33m\"\u001b[39m\u001b[33mYou must either define the environment variable \u001b[39m\u001b[38;5;132;01m%s\u001b[39;00m\u001b[33m \u001b[39m\u001b[33m\"\u001b[39m\n\u001b[32m     64\u001b[39m         \u001b[33m\"\u001b[39m\u001b[33mor call settings.configure() before accessing settings.\u001b[39m\u001b[33m\"\u001b[39m\n\u001b[32m     65\u001b[39m         % (desc, ENVIRONMENT_VARIABLE)\n\u001b[32m     66\u001b[39m     )\n\u001b[32m---> \u001b[39m\u001b[32m68\u001b[39m \u001b[38;5;28mself\u001b[39m._wrapped = Settings(settings_module)\n",
      "\u001b[36mFile \u001b[39m\u001b[32md:\\anacoda\\envs\\myenv\\Lib\\site-packages\\django\\conf\\__init__.py:166\u001b[39m, in \u001b[36mSettings.__init__\u001b[39m\u001b[34m(self, settings_module)\u001b[39m\n\u001b[32m    163\u001b[39m \u001b[38;5;66;03m# store the settings module in case someone later cares\u001b[39;00m\n\u001b[32m    164\u001b[39m \u001b[38;5;28mself\u001b[39m.SETTINGS_MODULE = settings_module\n\u001b[32m--> \u001b[39m\u001b[32m166\u001b[39m mod = importlib.import_module(\u001b[38;5;28mself\u001b[39m.SETTINGS_MODULE)\n\u001b[32m    168\u001b[39m tuple_settings = (\n\u001b[32m    169\u001b[39m     \u001b[33m\"\u001b[39m\u001b[33mALLOWED_HOSTS\u001b[39m\u001b[33m\"\u001b[39m,\n\u001b[32m    170\u001b[39m     \u001b[33m\"\u001b[39m\u001b[33mINSTALLED_APPS\u001b[39m\u001b[33m\"\u001b[39m,\n\u001b[32m   (...)\u001b[39m\u001b[32m    173\u001b[39m     \u001b[33m\"\u001b[39m\u001b[33mSECRET_KEY_FALLBACKS\u001b[39m\u001b[33m\"\u001b[39m,\n\u001b[32m    174\u001b[39m )\n\u001b[32m    175\u001b[39m \u001b[38;5;28mself\u001b[39m._explicit_settings = \u001b[38;5;28mset\u001b[39m()\n",
      "\u001b[36mFile \u001b[39m\u001b[32md:\\anacoda\\envs\\myenv\\Lib\\importlib\\__init__.py:90\u001b[39m, in \u001b[36mimport_module\u001b[39m\u001b[34m(name, package)\u001b[39m\n\u001b[32m     88\u001b[39m             \u001b[38;5;28;01mbreak\u001b[39;00m\n\u001b[32m     89\u001b[39m         level += \u001b[32m1\u001b[39m\n\u001b[32m---> \u001b[39m\u001b[32m90\u001b[39m \u001b[38;5;28;01mreturn\u001b[39;00m _bootstrap._gcd_import(name[level:], package, level)\n",
      "\u001b[36mFile \u001b[39m\u001b[32m<frozen importlib._bootstrap>:1387\u001b[39m, in \u001b[36m_gcd_import\u001b[39m\u001b[34m(name, package, level)\u001b[39m\n",
      "\u001b[36mFile \u001b[39m\u001b[32m<frozen importlib._bootstrap>:1360\u001b[39m, in \u001b[36m_find_and_load\u001b[39m\u001b[34m(name, import_)\u001b[39m\n",
      "\u001b[36mFile \u001b[39m\u001b[32m<frozen importlib._bootstrap>:1310\u001b[39m, in \u001b[36m_find_and_load_unlocked\u001b[39m\u001b[34m(name, import_)\u001b[39m\n",
      "\u001b[36mFile \u001b[39m\u001b[32m<frozen importlib._bootstrap>:488\u001b[39m, in \u001b[36m_call_with_frames_removed\u001b[39m\u001b[34m(f, *args, **kwds)\u001b[39m\n",
      "\u001b[36mFile \u001b[39m\u001b[32m<frozen importlib._bootstrap>:1387\u001b[39m, in \u001b[36m_gcd_import\u001b[39m\u001b[34m(name, package, level)\u001b[39m\n",
      "\u001b[36mFile \u001b[39m\u001b[32m<frozen importlib._bootstrap>:1360\u001b[39m, in \u001b[36m_find_and_load\u001b[39m\u001b[34m(name, import_)\u001b[39m\n",
      "\u001b[36mFile \u001b[39m\u001b[32m<frozen importlib._bootstrap>:1324\u001b[39m, in \u001b[36m_find_and_load_unlocked\u001b[39m\u001b[34m(name, import_)\u001b[39m\n",
      "\u001b[31mModuleNotFoundError\u001b[39m: No module named 'myproject'"
     ]
    }
   ],
   "source": [
    "import os\n",
    "import django\n",
    "import sys\n",
    "sys.path.append(\"d:/config\")\n",
    "os.environ.setdefault(\"DJANGO_SETTINGS_MODULE\",\"config.settings\")\n",
    "django.setup()"
   ]
  },
  {
   "cell_type": "code",
   "execution_count": null,
   "id": "df3754ba-6525-4790-9df0-60cef2cbf079",
   "metadata": {},
   "outputs": [
    {
     "ename": "ImportError",
     "evalue": "cannot import name 'ProfileSerializer' from 'profiles.serializers' (d:\\myproject\\profiles\\serializers.py)",
     "output_type": "error",
     "traceback": [
      "\u001b[31m---------------------------------------------------------------------------\u001b[39m",
      "\u001b[31mImportError\u001b[39m                               Traceback (most recent call last)",
      "\u001b[36mCell\u001b[39m\u001b[36m \u001b[39m\u001b[32mIn[15]\u001b[39m\u001b[32m, line 1\u001b[39m\n\u001b[32m----> \u001b[39m\u001b[32m1\u001b[39m \u001b[38;5;28;01mfrom\u001b[39;00m\u001b[38;5;250m \u001b[39m\u001b[34;01mprofiles\u001b[39;00m\u001b[34;01m.\u001b[39;00m\u001b[34;01mserializers\u001b[39;00m\u001b[38;5;250m \u001b[39m\u001b[38;5;28;01mimport\u001b[39;00m ProfileSerializer\n\u001b[32m      3\u001b[39m my_dict = {\n\u001b[32m      4\u001b[39m     \u001b[33m\"\u001b[39m\u001b[33mphone_number\u001b[39m\u001b[33m\"\u001b[39m: \u001b[33m\"\u001b[39m\u001b[33m09131234123\u001b[39m\u001b[33m\"\u001b[39m,\n\u001b[32m      5\u001b[39m     \u001b[33m\"\u001b[39m\u001b[33mfirst_name\u001b[39m\u001b[33m\"\u001b[39m: \u001b[33m\"\u001b[39m\u001b[33mmohammad\u001b[39m\u001b[33m\"\u001b[39m,\n\u001b[32m      6\u001b[39m     \u001b[33m\"\u001b[39m\u001b[33mlast_name\u001b[39m\u001b[33m\"\u001b[39m: \u001b[33m\"\u001b[39m\u001b[33mhasani\u001b[39m\u001b[33m\"\u001b[39m\n\u001b[32m      7\u001b[39m }\n\u001b[32m      9\u001b[39m my_ser = ProfileSerializer(data=my_dict)\n",
      "\u001b[31mImportError\u001b[39m: cannot import name 'ProfileSerializer' from 'profiles.serializers' (d:\\myproject\\profiles\\serializers.py)"
     ]
    }
   ],
   "source": [
    "from profiles.serializers import ProfileSerializer\n",
    "\n",
    "my_dict = {\n",
    "    \"phone_number\": \"09131234123\",\n",
    "    \"first_name\": \"mohammad\",\n",
    "    \"last_name\": \"hasani\"\n",
    "}\n",
    "\n",
    "my_ser = ProfileSerializer(data=my_dict)\n",
    "\n",
    "\n"
   ]
  },
  {
   "cell_type": "code",
   "execution_count": null,
   "id": "c23bc95f",
   "metadata": {},
   "outputs": [],
   "source": []
  },
  {
   "cell_type": "code",
   "execution_count": null,
   "id": "b46246bc",
   "metadata": {},
   "outputs": [
    {
     "ename": "NameError",
     "evalue": "name 'my_ser' is not defined",
     "output_type": "error",
     "traceback": [
      "\u001b[31m---------------------------------------------------------------------------\u001b[39m",
      "\u001b[31mNameError\u001b[39m                                 Traceback (most recent call last)",
      "\u001b[36mCell\u001b[39m\u001b[36m \u001b[39m\u001b[32mIn[16]\u001b[39m\u001b[32m, line 1\u001b[39m\n\u001b[32m----> \u001b[39m\u001b[32m1\u001b[39m \u001b[38;5;28mprint\u001b[39m(my_ser.is_valid())\n",
      "\u001b[31mNameError\u001b[39m: name 'my_ser' is not defined"
     ]
    }
   ],
   "source": [
    "print(my_ser.is_valid()) # خروجی"
   ]
  },
  {
   "cell_type": "code",
   "execution_count": null,
   "id": "f1a58795-b42b-4733-b54b-6ec8cd491ba4",
   "metadata": {},
   "outputs": [
    {
     "ename": "ImproperlyConfigured",
     "evalue": "Requested setting INSTALLED_APPS, but settings are not configured. You must either define the environment variable DJANGO_SETTINGS_MODULE or call settings.configure() before accessing settings.",
     "output_type": "error",
     "traceback": [
      "\u001b[31m---------------------------------------------------------------------------\u001b[39m",
      "\u001b[31mImproperlyConfigured\u001b[39m                      Traceback (most recent call last)",
      "\u001b[36mCell\u001b[39m\u001b[36m \u001b[39m\u001b[32mIn[17]\u001b[39m\u001b[32m, line 1\u001b[39m\n\u001b[32m----> \u001b[39m\u001b[32m1\u001b[39m \u001b[38;5;28;01mfrom\u001b[39;00m\u001b[38;5;250m \u001b[39m\u001b[34;01mprofiles\u001b[39;00m\u001b[34;01m.\u001b[39;00m\u001b[34;01mmodels\u001b[39;00m\u001b[38;5;250m \u001b[39m\u001b[38;5;28;01mimport\u001b[39;00m Profiles\n\u001b[32m      3\u001b[39m my_profile = Profiles.objects.get(\u001b[38;5;28mid\u001b[39m=\u001b[32m3\u001b[39m)\n\u001b[32m      5\u001b[39m my_new_dict = {\n\u001b[32m      6\u001b[39m     \u001b[33m\"\u001b[39m\u001b[33mphone_number\u001b[39m\u001b[33m\"\u001b[39m: \u001b[33m\"\u001b[39m\u001b[33m09137894123\u001b[39m\u001b[33m\"\u001b[39m,\n\u001b[32m      7\u001b[39m     \u001b[33m\"\u001b[39m\u001b[33mfirst_name\u001b[39m\u001b[33m\"\u001b[39m: \u001b[33m\"\u001b[39m\u001b[33mmohammad\u001b[39m\u001b[33m\"\u001b[39m,\n\u001b[32m      8\u001b[39m     \u001b[33m\"\u001b[39m\u001b[33mlast_name\u001b[39m\u001b[33m\"\u001b[39m: \u001b[33m\"\u001b[39m\u001b[33mhasani\u001b[39m\u001b[33m\"\u001b[39m\n\u001b[32m      9\u001b[39m }\n",
      "\u001b[36mFile \u001b[39m\u001b[32md:\\myproject\\profiles\\models.py:3\u001b[39m\n\u001b[32m      1\u001b[39m \u001b[38;5;28;01mfrom\u001b[39;00m\u001b[38;5;250m \u001b[39m\u001b[34;01mdjango\u001b[39;00m\u001b[34;01m.\u001b[39;00m\u001b[34;01mdb\u001b[39;00m\u001b[38;5;250m \u001b[39m\u001b[38;5;28;01mimport\u001b[39;00m models\n\u001b[32m      2\u001b[39m \u001b[38;5;66;03m# Create your models here.\u001b[39;00m\n\u001b[32m----> \u001b[39m\u001b[32m3\u001b[39m \u001b[38;5;28;01mclass\u001b[39;00m\u001b[38;5;250m \u001b[39m\u001b[34;01mProfiles\u001b[39;00m(models.Model):\n\u001b[32m      4\u001b[39m     phone_number =models.CharField(max_length=\u001b[32m11\u001b[39m)\n\u001b[32m      5\u001b[39m     first_name = models.CharField(max_length=\u001b[32m50\u001b[39m)\n",
      "\u001b[36mFile \u001b[39m\u001b[32md:\\anacoda\\envs\\myenv\\Lib\\site-packages\\django\\db\\models\\base.py:131\u001b[39m, in \u001b[36mModelBase.__new__\u001b[39m\u001b[34m(cls, name, bases, attrs, **kwargs)\u001b[39m\n\u001b[32m    128\u001b[39m app_label = \u001b[38;5;28;01mNone\u001b[39;00m\n\u001b[32m    130\u001b[39m \u001b[38;5;66;03m# Look for an application configuration to attach the model to.\u001b[39;00m\n\u001b[32m--> \u001b[39m\u001b[32m131\u001b[39m app_config = apps.get_containing_app_config(module)\n\u001b[32m    133\u001b[39m \u001b[38;5;28;01mif\u001b[39;00m \u001b[38;5;28mgetattr\u001b[39m(meta, \u001b[33m\"\u001b[39m\u001b[33mapp_label\u001b[39m\u001b[33m\"\u001b[39m, \u001b[38;5;28;01mNone\u001b[39;00m) \u001b[38;5;129;01mis\u001b[39;00m \u001b[38;5;28;01mNone\u001b[39;00m:\n\u001b[32m    134\u001b[39m     \u001b[38;5;28;01mif\u001b[39;00m app_config \u001b[38;5;129;01mis\u001b[39;00m \u001b[38;5;28;01mNone\u001b[39;00m:\n",
      "\u001b[36mFile \u001b[39m\u001b[32md:\\anacoda\\envs\\myenv\\Lib\\site-packages\\django\\apps\\registry.py:260\u001b[39m, in \u001b[36mApps.get_containing_app_config\u001b[39m\u001b[34m(self, object_name)\u001b[39m\n\u001b[32m    251\u001b[39m \u001b[38;5;28;01mdef\u001b[39;00m\u001b[38;5;250m \u001b[39m\u001b[34mget_containing_app_config\u001b[39m(\u001b[38;5;28mself\u001b[39m, object_name):\n\u001b[32m    252\u001b[39m \u001b[38;5;250m    \u001b[39m\u001b[33;03m\"\"\"\u001b[39;00m\n\u001b[32m    253\u001b[39m \u001b[33;03m    Look for an app config containing a given object.\u001b[39;00m\n\u001b[32m    254\u001b[39m \n\u001b[32m   (...)\u001b[39m\u001b[32m    258\u001b[39m \u001b[33;03m    Return None if the object isn't in any registered app config.\u001b[39;00m\n\u001b[32m    259\u001b[39m \u001b[33;03m    \"\"\"\u001b[39;00m\n\u001b[32m--> \u001b[39m\u001b[32m260\u001b[39m     \u001b[38;5;28mself\u001b[39m.check_apps_ready()\n\u001b[32m    261\u001b[39m     candidates = []\n\u001b[32m    262\u001b[39m     \u001b[38;5;28;01mfor\u001b[39;00m app_config \u001b[38;5;129;01min\u001b[39;00m \u001b[38;5;28mself\u001b[39m.app_configs.values():\n",
      "\u001b[36mFile \u001b[39m\u001b[32md:\\anacoda\\envs\\myenv\\Lib\\site-packages\\django\\apps\\registry.py:137\u001b[39m, in \u001b[36mApps.check_apps_ready\u001b[39m\u001b[34m(self)\u001b[39m\n\u001b[32m    132\u001b[39m \u001b[38;5;28;01mfrom\u001b[39;00m\u001b[38;5;250m \u001b[39m\u001b[34;01mdjango\u001b[39;00m\u001b[34;01m.\u001b[39;00m\u001b[34;01mconf\u001b[39;00m\u001b[38;5;250m \u001b[39m\u001b[38;5;28;01mimport\u001b[39;00m settings\n\u001b[32m    134\u001b[39m \u001b[38;5;66;03m# If \"not ready\" is due to unconfigured settings, accessing\u001b[39;00m\n\u001b[32m    135\u001b[39m \u001b[38;5;66;03m# INSTALLED_APPS raises a more helpful ImproperlyConfigured\u001b[39;00m\n\u001b[32m    136\u001b[39m \u001b[38;5;66;03m# exception.\u001b[39;00m\n\u001b[32m--> \u001b[39m\u001b[32m137\u001b[39m settings.INSTALLED_APPS\n\u001b[32m    138\u001b[39m \u001b[38;5;28;01mraise\u001b[39;00m AppRegistryNotReady(\u001b[33m\"\u001b[39m\u001b[33mApps aren\u001b[39m\u001b[33m'\u001b[39m\u001b[33mt loaded yet.\u001b[39m\u001b[33m\"\u001b[39m)\n",
      "\u001b[36mFile \u001b[39m\u001b[32md:\\anacoda\\envs\\myenv\\Lib\\site-packages\\django\\conf\\__init__.py:81\u001b[39m, in \u001b[36mLazySettings.__getattr__\u001b[39m\u001b[34m(self, name)\u001b[39m\n\u001b[32m     79\u001b[39m \u001b[38;5;250m\u001b[39m\u001b[33;03m\"\"\"Return the value of a setting and cache it in self.__dict__.\"\"\"\u001b[39;00m\n\u001b[32m     80\u001b[39m \u001b[38;5;28;01mif\u001b[39;00m (_wrapped := \u001b[38;5;28mself\u001b[39m._wrapped) \u001b[38;5;129;01mis\u001b[39;00m empty:\n\u001b[32m---> \u001b[39m\u001b[32m81\u001b[39m     \u001b[38;5;28mself\u001b[39m._setup(name)\n\u001b[32m     82\u001b[39m     _wrapped = \u001b[38;5;28mself\u001b[39m._wrapped\n\u001b[32m     83\u001b[39m val = \u001b[38;5;28mgetattr\u001b[39m(_wrapped, name)\n",
      "\u001b[36mFile \u001b[39m\u001b[32md:\\anacoda\\envs\\myenv\\Lib\\site-packages\\django\\conf\\__init__.py:61\u001b[39m, in \u001b[36mLazySettings._setup\u001b[39m\u001b[34m(self, name)\u001b[39m\n\u001b[32m     59\u001b[39m \u001b[38;5;28;01mif\u001b[39;00m \u001b[38;5;129;01mnot\u001b[39;00m settings_module:\n\u001b[32m     60\u001b[39m     desc = (\u001b[33m\"\u001b[39m\u001b[33msetting \u001b[39m\u001b[38;5;132;01m%s\u001b[39;00m\u001b[33m\"\u001b[39m % name) \u001b[38;5;28;01mif\u001b[39;00m name \u001b[38;5;28;01melse\u001b[39;00m \u001b[33m\"\u001b[39m\u001b[33msettings\u001b[39m\u001b[33m\"\u001b[39m\n\u001b[32m---> \u001b[39m\u001b[32m61\u001b[39m     \u001b[38;5;28;01mraise\u001b[39;00m ImproperlyConfigured(\n\u001b[32m     62\u001b[39m         \u001b[33m\"\u001b[39m\u001b[33mRequested \u001b[39m\u001b[38;5;132;01m%s\u001b[39;00m\u001b[33m, but settings are not configured. \u001b[39m\u001b[33m\"\u001b[39m\n\u001b[32m     63\u001b[39m         \u001b[33m\"\u001b[39m\u001b[33mYou must either define the environment variable \u001b[39m\u001b[38;5;132;01m%s\u001b[39;00m\u001b[33m \u001b[39m\u001b[33m\"\u001b[39m\n\u001b[32m     64\u001b[39m         \u001b[33m\"\u001b[39m\u001b[33mor call settings.configure() before accessing settings.\u001b[39m\u001b[33m\"\u001b[39m\n\u001b[32m     65\u001b[39m         % (desc, ENVIRONMENT_VARIABLE)\n\u001b[32m     66\u001b[39m     )\n\u001b[32m     68\u001b[39m \u001b[38;5;28mself\u001b[39m._wrapped = Settings(settings_module)\n",
      "\u001b[31mImproperlyConfigured\u001b[39m: Requested setting INSTALLED_APPS, but settings are not configured. You must either define the environment variable DJANGO_SETTINGS_MODULE or call settings.configure() before accessing settings."
     ]
    }
   ],
   "source": [
    "from profiles.models import Profiles\n",
    "\n",
    "my_profile = Profiles.objects.get(id=3)\n",
    "\n",
    "my_new_dict = {\n",
    "    \"phone_number\": \"09137894123\",\n",
    "    \"first_name\": \"mohammad\",\n",
    "    \"last_name\": \"hasani\"\n",
    "}\n",
    "\n",
    "my_new_ser = ProfileSerializer(my_profile, data=my_new_dict)\n",
    "\n",
    "my_new_ser.is_valid()\n",
    "my_new_ser.update(my_profile, my_new_ser.validated_data)"
   ]
  },
  {
   "cell_type": "code",
   "execution_count": null,
   "id": "c7e0ef48",
   "metadata": {},
   "outputs": [
    {
     "ename": "NameError",
     "evalue": "name 'my_new_ser' is not defined",
     "output_type": "error",
     "traceback": [
      "\u001b[31m---------------------------------------------------------------------------\u001b[39m",
      "\u001b[31mNameError\u001b[39m                                 Traceback (most recent call last)",
      "\u001b[36mCell\u001b[39m\u001b[36m \u001b[39m\u001b[32mIn[10]\u001b[39m\u001b[32m, line 1\u001b[39m\n\u001b[32m----> \u001b[39m\u001b[32m1\u001b[39m \u001b[38;5;28;01mif\u001b[39;00m my_new_ser.is_valid():\n\u001b[32m      2\u001b[39m     my_new_ser.save()\n",
      "\u001b[31mNameError\u001b[39m: name 'my_new_ser' is not defined"
     ]
    }
   ],
   "source": [
    "if my_new_ser.is_valid():\n",
    "    my_new_ser.save()"
   ]
  }
 ],
 "metadata": {
  "kernelspec": {
   "display_name": "myenv",
   "language": "python",
   "name": "python3"
  },
  "language_info": {
   "codemirror_mode": {
    "name": "ipython",
    "version": 3
   },
   "file_extension": ".py",
   "mimetype": "text/x-python",
   "name": "python",
   "nbconvert_exporter": "python",
   "pygments_lexer": "ipython3",
   "version": "3.12.9"
  }
 },
 "nbformat": 4,
 "nbformat_minor": 5
}
